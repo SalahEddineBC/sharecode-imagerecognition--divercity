{
 "cells": [
  {
   "cell_type": "code",
   "execution_count": 1,
   "metadata": {},
   "outputs": [],
   "source": [
    "%reload_ext autoreload\n",
    "%autoreload 2\n",
    "%matplotlib inline\n",
    "from fastai.vision import *\n",
    "from fastai.metrics import error_rate"
   ]
  },
  {
   "cell_type": "code",
   "execution_count": 2,
   "metadata": {},
   "outputs": [
    {
     "data": {
      "text/plain": [
       "ImageDataBunch;\n",
       "\n",
       "Train: LabelList (18430 items)\n",
       "x: ImageList\n",
       "Image (3, 200, 200),Image (3, 200, 200),Image (3, 200, 200),Image (3, 200, 200),Image (3, 200, 200)\n",
       "y: CategoryList\n",
       "latino man,latino man,latino man,latino man,latino man\n",
       "Path: /CCAS/home/jialu/coursev3/nbs/dl1/divercity;\n",
       "\n",
       "Valid: LabelList (4607 items)\n",
       "x: ImageList\n",
       "Image (3, 200, 200),Image (3, 200, 200),Image (3, 200, 200),Image (3, 200, 200),Image (3, 200, 200)\n",
       "y: CategoryList\n",
       "white woman,black man,white man,asian woman,latino woman\n",
       "Path: /CCAS/home/jialu/coursev3/nbs/dl1/divercity;\n",
       "\n",
       "Test: None"
      ]
     },
     "execution_count": 2,
     "metadata": {},
     "output_type": "execute_result"
    }
   ],
   "source": [
    "np.random.seed(3)\n",
    "path = Path('/CCAS/home/jialu/coursev3/nbs/dl1/divercity/')\n",
    "tfms = get_transforms(do_flip=False)\n",
    "#tfms=get_transforms(flip_vert=False, #max_lighting=0.1, #max_zoom=1.05, #max_warp=0)\n",
    "\n",
    "data3 = (ImageDataBunch.from_csv(path, size=200, folder='allimages',\n",
    "                                #label_delim=' ', \n",
    "                                bs=16, valid_pct=0.2, ds_tfms=get_transforms(do_flip=False))\n",
    "                                .normalize(imagenet_stats))\n",
    "\n",
    "data3"
   ]
  },
  {
   "cell_type": "code",
   "execution_count": 3,
   "metadata": {},
   "outputs": [
    {
     "data": {
      "text/plain": [
       "(['asian man',\n",
       "  'asian woman',\n",
       "  'black man',\n",
       "  'black woman',\n",
       "  'indian man',\n",
       "  'indian woman',\n",
       "  'latino man',\n",
       "  'latino woman',\n",
       "  'white man',\n",
       "  'white woman'],\n",
       " 10,\n",
       " 18430,\n",
       " 4607)"
      ]
     },
     "execution_count": 3,
     "metadata": {},
     "output_type": "execute_result"
    }
   ],
   "source": [
    "data3.c\n",
    "data3.classes, data3.c, len(data3.train_ds), len(data3.valid_ds)"
   ]
  },
  {
   "cell_type": "markdown",
   "metadata": {},
   "source": [
    "# ResNET34 "
   ]
  },
  {
   "cell_type": "code",
   "execution_count": 4,
   "metadata": {},
   "outputs": [],
   "source": [
    "learn_bt = cnn_learner(data3, models.resnet34, metrics=error_rate)"
   ]
  },
  {
   "cell_type": "code",
   "execution_count": 5,
   "metadata": {},
   "outputs": [
    {
     "data": {
      "text/html": [
       "<table border=\"1\" class=\"dataframe\">\n",
       "  <thead>\n",
       "    <tr style=\"text-align: left;\">\n",
       "      <th>epoch</th>\n",
       "      <th>train_loss</th>\n",
       "      <th>valid_loss</th>\n",
       "      <th>error_rate</th>\n",
       "      <th>time</th>\n",
       "    </tr>\n",
       "  </thead>\n",
       "  <tbody>\n",
       "    <tr>\n",
       "      <td>0</td>\n",
       "      <td>1.768356</td>\n",
       "      <td>1.445042</td>\n",
       "      <td>0.511396</td>\n",
       "      <td>01:18</td>\n",
       "    </tr>\n",
       "    <tr>\n",
       "      <td>1</td>\n",
       "      <td>1.382823</td>\n",
       "      <td>1.135733</td>\n",
       "      <td>0.415455</td>\n",
       "      <td>01:12</td>\n",
       "    </tr>\n",
       "    <tr>\n",
       "      <td>2</td>\n",
       "      <td>1.175061</td>\n",
       "      <td>0.906931</td>\n",
       "      <td>0.318428</td>\n",
       "      <td>01:13</td>\n",
       "    </tr>\n",
       "    <tr>\n",
       "      <td>3</td>\n",
       "      <td>1.018529</td>\n",
       "      <td>0.814670</td>\n",
       "      <td>0.276753</td>\n",
       "      <td>01:13</td>\n",
       "    </tr>\n",
       "    <tr>\n",
       "      <td>4</td>\n",
       "      <td>0.963871</td>\n",
       "      <td>0.796042</td>\n",
       "      <td>0.276753</td>\n",
       "      <td>01:13</td>\n",
       "    </tr>\n",
       "  </tbody>\n",
       "</table>"
      ],
      "text/plain": [
       "<IPython.core.display.HTML object>"
      ]
     },
     "metadata": {},
     "output_type": "display_data"
    }
   ],
   "source": [
    "learn_bt.fit_one_cycle(5)\n",
    "#learn_bt.fit_one_cycle(1)"
   ]
  },
  {
   "cell_type": "code",
   "execution_count": 6,
   "metadata": {},
   "outputs": [],
   "source": [
    "learn_bt.save('stage-1')"
   ]
  },
  {
   "cell_type": "code",
   "execution_count": 7,
   "metadata": {},
   "outputs": [
    {
     "data": {
      "text/html": [],
      "text/plain": [
       "<IPython.core.display.HTML object>"
      ]
     },
     "metadata": {},
     "output_type": "display_data"
    },
    {
     "data": {
      "text/plain": [
       "[('latino man', 'white man', 99),\n",
       " ('white woman', 'latino woman', 67),\n",
       " ('white man', 'latino man', 64),\n",
       " ('latino man', 'indian man', 59),\n",
       " ('latino woman', 'white woman', 55),\n",
       " ('white man', 'indian man', 52),\n",
       " ('indian man', 'latino man', 46),\n",
       " ('indian woman', 'latino woman', 46),\n",
       " ('latino woman', 'indian woman', 44),\n",
       " ('white woman', 'white man', 38),\n",
       " ('latino woman', 'black woman', 35),\n",
       " ('indian man', 'black man', 34),\n",
       " ('indian man', 'white man', 33),\n",
       " ('latino man', 'black man', 33),\n",
       " ('white woman', 'asian woman', 29),\n",
       " ('black woman', 'black man', 28),\n",
       " ('asian man', 'indian man', 27),\n",
       " ('black man', 'indian man', 24),\n",
       " ('asian man', 'white man', 23),\n",
       " ('asian woman', 'latino woman', 23),\n",
       " ('white man', 'black man', 23),\n",
       " ('white man', 'white woman', 21),\n",
       " ('asian woman', 'indian woman', 20),\n",
       " ('latino woman', 'asian woman', 20),\n",
       " ('indian woman', 'indian man', 19),\n",
       " ('black woman', 'indian woman', 17),\n",
       " ('black woman', 'latino woman', 17),\n",
       " ('white woman', 'indian woman', 17),\n",
       " ('black man', 'black woman', 16),\n",
       " ('black man', 'white man', 16),\n",
       " ('indian woman', 'black woman', 15),\n",
       " ('white woman', 'black woman', 15),\n",
       " ('indian man', 'asian man', 14),\n",
       " ('black man', 'latino man', 13),\n",
       " ('indian woman', 'white woman', 13),\n",
       " ('white man', 'asian man', 13),\n",
       " ('asian woman', 'black woman', 11),\n",
       " ('latino man', 'asian man', 10)]"
      ]
     },
     "execution_count": 7,
     "metadata": {},
     "output_type": "execute_result"
    }
   ],
   "source": [
    "interp = ClassificationInterpretation.from_learner(learn_bt)\n",
    "interp.most_confused(min_val=10)"
   ]
  },
  {
   "cell_type": "code",
   "execution_count": 8,
   "metadata": {},
   "outputs": [],
   "source": [
    "learn_bt.unfreeze()"
   ]
  },
  {
   "cell_type": "code",
   "execution_count": 9,
   "metadata": {},
   "outputs": [
    {
     "data": {
      "text/html": [
       "\n",
       "    <div>\n",
       "        <style>\n",
       "            /* Turns off some styling */\n",
       "            progress {\n",
       "                /* gets rid of default border in Firefox and Opera. */\n",
       "                border: none;\n",
       "                /* Needs to be in here for Safari polyfill so background images work as expected. */\n",
       "                background-size: auto;\n",
       "            }\n",
       "            .progress-bar-interrupted, .progress-bar-interrupted::-webkit-progress-bar {\n",
       "                background: #F44336;\n",
       "            }\n",
       "        </style>\n",
       "      <progress value='0' class='' max='1' style='width:300px; height:20px; vertical-align: middle;'></progress>\n",
       "      0.00% [0/1 00:00<00:00]\n",
       "    </div>\n",
       "    \n",
       "<table border=\"1\" class=\"dataframe\">\n",
       "  <thead>\n",
       "    <tr style=\"text-align: left;\">\n",
       "      <th>epoch</th>\n",
       "      <th>train_loss</th>\n",
       "      <th>valid_loss</th>\n",
       "      <th>error_rate</th>\n",
       "      <th>time</th>\n",
       "    </tr>\n",
       "  </thead>\n",
       "  <tbody>\n",
       "  </tbody>\n",
       "</table><p>\n",
       "\n",
       "    <div>\n",
       "        <style>\n",
       "            /* Turns off some styling */\n",
       "            progress {\n",
       "                /* gets rid of default border in Firefox and Opera. */\n",
       "                border: none;\n",
       "                /* Needs to be in here for Safari polyfill so background images work as expected. */\n",
       "                background-size: auto;\n",
       "            }\n",
       "            .progress-bar-interrupted, .progress-bar-interrupted::-webkit-progress-bar {\n",
       "                background: #F44336;\n",
       "            }\n",
       "        </style>\n",
       "      <progress value='82' class='' max='1151' style='width:300px; height:20px; vertical-align: middle;'></progress>\n",
       "      7.12% [82/1151 00:07<01:36 2.4497]\n",
       "    </div>\n",
       "    "
      ],
      "text/plain": [
       "<IPython.core.display.HTML object>"
      ]
     },
     "metadata": {},
     "output_type": "display_data"
    },
    {
     "name": "stdout",
     "output_type": "stream",
     "text": [
      "LR Finder is complete, type {learner_name}.recorder.plot() to see the graph.\n"
     ]
    }
   ],
   "source": [
    "learn_bt.lr_find()"
   ]
  },
  {
   "cell_type": "code",
   "execution_count": 10,
   "metadata": {},
   "outputs": [
    {
     "data": {
      "image/png": "[encoded data removed]",
      "text/plain": [
       "<Figure size 432x288 with 1 Axes>"
      ]
     },
     "metadata": {
      "needs_background": "light"
     },
     "output_type": "display_data"
    }
   ],
   "source": [
    "learn_bt.recorder.plot()"
   ]
  },
  {
   "cell_type": "code",
   "execution_count": 11,
   "metadata": {},
   "outputs": [],
   "source": [
    "#lrs=slice(1e-04,3e-04)\n",
    "lrs=slice(1e-05,3e-04)"
   ]
  },
  {
   "cell_type": "code",
   "execution_count": 12,
   "metadata": {},
   "outputs": [
    {
     "data": {
      "text/html": [
       "<table border=\"1\" class=\"dataframe\">\n",
       "  <thead>\n",
       "    <tr style=\"text-align: left;\">\n",
       "      <th>epoch</th>\n",
       "      <th>train_loss</th>\n",
       "      <th>valid_loss</th>\n",
       "      <th>error_rate</th>\n",
       "      <th>time</th>\n",
       "    </tr>\n",
       "  </thead>\n",
       "  <tbody>\n",
       "    <tr>\n",
       "      <td>0</td>\n",
       "      <td>0.875121</td>\n",
       "      <td>0.694687</td>\n",
       "      <td>0.235294</td>\n",
       "      <td>01:40</td>\n",
       "    </tr>\n",
       "    <tr>\n",
       "      <td>1</td>\n",
       "      <td>0.807810</td>\n",
       "      <td>0.622674</td>\n",
       "      <td>0.212937</td>\n",
       "      <td>01:40</td>\n",
       "    </tr>\n",
       "    <tr>\n",
       "      <td>2</td>\n",
       "      <td>0.731262</td>\n",
       "      <td>0.549600</td>\n",
       "      <td>0.184502</td>\n",
       "      <td>01:40</td>\n",
       "    </tr>\n",
       "    <tr>\n",
       "      <td>3</td>\n",
       "      <td>0.571201</td>\n",
       "      <td>0.472683</td>\n",
       "      <td>0.148470</td>\n",
       "      <td>01:40</td>\n",
       "    </tr>\n",
       "    <tr>\n",
       "      <td>4</td>\n",
       "      <td>0.473678</td>\n",
       "      <td>0.416274</td>\n",
       "      <td>0.134361</td>\n",
       "      <td>01:39</td>\n",
       "    </tr>\n",
       "    <tr>\n",
       "      <td>5</td>\n",
       "      <td>0.337502</td>\n",
       "      <td>0.355894</td>\n",
       "      <td>0.109399</td>\n",
       "      <td>01:39</td>\n",
       "    </tr>\n",
       "    <tr>\n",
       "      <td>6</td>\n",
       "      <td>0.254002</td>\n",
       "      <td>0.332506</td>\n",
       "      <td>0.099848</td>\n",
       "      <td>01:39</td>\n",
       "    </tr>\n",
       "    <tr>\n",
       "      <td>7</td>\n",
       "      <td>0.233906</td>\n",
       "      <td>0.321689</td>\n",
       "      <td>0.093119</td>\n",
       "      <td>01:39</td>\n",
       "    </tr>\n",
       "    <tr>\n",
       "      <td>8</td>\n",
       "      <td>0.123633</td>\n",
       "      <td>0.302904</td>\n",
       "      <td>0.084437</td>\n",
       "      <td>01:41</td>\n",
       "    </tr>\n",
       "    <tr>\n",
       "      <td>9</td>\n",
       "      <td>0.118128</td>\n",
       "      <td>0.306955</td>\n",
       "      <td>0.087693</td>\n",
       "      <td>01:40</td>\n",
       "    </tr>\n",
       "    <tr>\n",
       "      <td>10</td>\n",
       "      <td>0.093036</td>\n",
       "      <td>0.303718</td>\n",
       "      <td>0.085088</td>\n",
       "      <td>01:40</td>\n",
       "    </tr>\n",
       "    <tr>\n",
       "      <td>11</td>\n",
       "      <td>0.064816</td>\n",
       "      <td>0.302156</td>\n",
       "      <td>0.082049</td>\n",
       "      <td>01:40</td>\n",
       "    </tr>\n",
       "  </tbody>\n",
       "</table>"
      ],
      "text/plain": [
       "<IPython.core.display.HTML object>"
      ]
     },
     "metadata": {},
     "output_type": "display_data"
    }
   ],
   "source": [
    "#learn_bt.fit_one_cycle(15, lrs)\n",
    "learn_bt.fit_one_cycle(12, lrs)"
   ]
  },
  {
   "cell_type": "code",
   "execution_count": 13,
   "metadata": {},
   "outputs": [
    {
     "data": {
      "image/png": "[encoded data removed]",
      "text/plain": [
       "<Figure size 432x288 with 1 Axes>"
      ]
     },
     "metadata": {
      "needs_background": "light"
     },
     "output_type": "display_data"
    }
   ],
   "source": [
    "learn_bt.recorder.plot_losses()"
   ]
  },
  {
   "cell_type": "code",
   "execution_count": 14,
   "metadata": {},
   "outputs": [
    {
     "data": {
      "image/png": "[encoded data removed]",
      "text/plain": [
       "<Figure size 432x288 with 1 Axes>"
      ]
     },
     "metadata": {
      "needs_background": "light"
     },
     "output_type": "display_data"
    }
   ],
   "source": [
    "learn_bt.recorder.plot_lr()"
   ]
  },
  {
   "cell_type": "code",
   "execution_count": 15,
   "metadata": {},
   "outputs": [],
   "source": [
    "learn_bt.save('stage-2')"
   ]
  },
  {
   "cell_type": "code",
   "execution_count": 16,
   "metadata": {},
   "outputs": [],
   "source": [
    "#learn_bt.load('stage-2')"
   ]
  },
  {
   "cell_type": "markdown",
   "metadata": {},
   "source": [
    "# Interpretation"
   ]
  },
  {
   "cell_type": "code",
   "execution_count": 17,
   "metadata": {},
   "outputs": [],
   "source": [
    "#learn_bt.load('stage-2')"
   ]
  },
  {
   "cell_type": "code",
   "execution_count": 19,
   "metadata": {},
   "outputs": [
    {
     "data": {
      "text/html": [],
      "text/plain": [
       "<IPython.core.display.HTML object>"
      ]
     },
     "metadata": {},
     "output_type": "display_data"
    },
    {
     "data": {
      "image/png": "[encoded data removed]",
      "text/plain": [
       "<Figure size 432x288 with 1 Axes>"
      ]
     },
     "metadata": {
      "needs_background": "light"
     },
     "output_type": "display_data"
    }
   ],
   "source": [
    "interp = ClassificationInterpretation.from_learner(learn_bt)\n",
    "interp.plot_confusion_matrix()"
   ]
  },
  {
   "cell_type": "markdown",
   "metadata": {},
   "source": [
    "# Crop Face of LinkedIn Profile Images"
   ]
  },
  {
   "cell_type": "code",
   "execution_count": 22,
   "metadata": {},
   "outputs": [],
   "source": [
    "import cv2\n",
    "import sys"
   ]
  },
  {
   "cell_type": "code",
   "execution_count": 28,
   "metadata": {},
   "outputs": [],
   "source": [
    "import face_recognition\n",
    "\n",
    "#image = face_recognition.load_image_file('/CCAS/home/jialu/coursev3/nbs/dl1/divercity/testimages/*.jpeg')\n",
    "#face_locations = face_recognition.face_locations(image)"
   ]
  },
  {
   "cell_type": "code",
   "execution_count": 49,
   "metadata": {},
   "outputs": [],
   "source": [
    "import glob\n",
    "types = ('*.jpeg', '*.jpg','*.png') # the tuple of file types\n",
    "files_grabbed = []\n",
    "for files in types:\n",
    "    files_grabbed.extend(glob.glob('/CCAS/home/jialu/coursev3/nbs/dl1/divercity/testimages/*'+ files))\n",
    "\n",
    "# files_grabbed is the list of pdf and cpp files"
   ]
  },
  {
   "cell_type": "code",
   "execution_count": 50,
   "metadata": {},
   "outputs": [
    {
     "data": {
      "text/plain": [
       "['/CCAS/home/jialu/coursev3/nbs/dl1/divercity/testimages/Frances Yang.jpeg',\n",
       " '/CCAS/home/jialu/coursev3/nbs/dl1/divercity/testimages/Daniel Parrillo.jpeg',\n",
       " '/CCAS/home/jialu/coursev3/nbs/dl1/divercity/testimages/Martin Barrientos.jpeg',\n",
       " '/CCAS/home/jialu/coursev3/nbs/dl1/divercity/testimages/Alejo Pijuan.jpeg',\n",
       " '/CCAS/home/jialu/coursev3/nbs/dl1/divercity/testimages/Brandon Valencia.jpeg',\n",
       " '/CCAS/home/jialu/coursev3/nbs/dl1/divercity/testimages/Joanna Pyra.jpeg',\n",
       " '/CCAS/home/jialu/coursev3/nbs/dl1/divercity/testimages/Tiffany Zheng.jpeg',\n",
       " '/CCAS/home/jialu/coursev3/nbs/dl1/divercity/testimages/Bebby Sesido.jpeg',\n",
       " '/CCAS/home/jialu/coursev3/nbs/dl1/divercity/testimages/Shaheen Alemi.jpeg',\n",
       " '/CCAS/home/jialu/coursev3/nbs/dl1/divercity/testimages/Guhan Sundar.png',\n",
       " '/CCAS/home/jialu/coursev3/nbs/dl1/divercity/testimages/Ryan Johnson.png',\n",
       " '/CCAS/home/jialu/coursev3/nbs/dl1/divercity/testimages/Vida Powell.png',\n",
       " '/CCAS/home/jialu/coursev3/nbs/dl1/divercity/testimages/Gideon Nnalue.png',\n",
       " '/CCAS/home/jialu/coursev3/nbs/dl1/divercity/testimages/Celena Zeng.png',\n",
       " '/CCAS/home/jialu/coursev3/nbs/dl1/divercity/testimages/Shravan Selvan.png',\n",
       " '/CCAS/home/jialu/coursev3/nbs/dl1/divercity/testimages/Robert Merrill.png',\n",
       " '/CCAS/home/jialu/coursev3/nbs/dl1/divercity/testimages/Ron Harris.png',\n",
       " '/CCAS/home/jialu/coursev3/nbs/dl1/divercity/testimages/Katty Barroso.png',\n",
       " '/CCAS/home/jialu/coursev3/nbs/dl1/divercity/testimages/Nicole Yue.png',\n",
       " '/CCAS/home/jialu/coursev3/nbs/dl1/divercity/testimages/Stephanie Hawkins.png',\n",
       " '/CCAS/home/jialu/coursev3/nbs/dl1/divercity/testimages/Raymond Choy.png',\n",
       " '/CCAS/home/jialu/coursev3/nbs/dl1/divercity/testimages/Karina Modragon.png',\n",
       " '/CCAS/home/jialu/coursev3/nbs/dl1/divercity/testimages/Marc Guirand.png',\n",
       " '/CCAS/home/jialu/coursev3/nbs/dl1/divercity/testimages/Etse Audu.png',\n",
       " '/CCAS/home/jialu/coursev3/nbs/dl1/divercity/testimages/Leena Abdelrahim.png',\n",
       " '/CCAS/home/jialu/coursev3/nbs/dl1/divercity/testimages/Salah Cherif.png',\n",
       " '/CCAS/home/jialu/coursev3/nbs/dl1/divercity/testimages/Jialu Wang.png',\n",
       " '/CCAS/home/jialu/coursev3/nbs/dl1/divercity/testimages/Andreas Braun.png',\n",
       " '/CCAS/home/jialu/coursev3/nbs/dl1/divercity/testimages/Yvonne Quetant.png',\n",
       " '/CCAS/home/jialu/coursev3/nbs/dl1/divercity/testimages/Cole Solomon.png']"
      ]
     },
     "execution_count": 50,
     "metadata": {},
     "output_type": "execute_result"
    }
   ],
   "source": [
    "files_grabbed\n",
    "# type(files_grabbed) is list"
   ]
  },
  {
   "cell_type": "code",
   "execution_count": 51,
   "metadata": {},
   "outputs": [
    {
     "data": {
      "text/plain": [
       "30"
      ]
     },
     "execution_count": 51,
     "metadata": {},
     "output_type": "execute_result"
    }
   ],
   "source": [
    "len(files_grabbed)"
   ]
  },
  {
   "cell_type": "code",
   "execution_count": 52,
   "metadata": {},
   "outputs": [],
   "source": [
    "import face_recognition\n",
    "Image_list=[]\n",
    "Image_list_face_locations=[]\n",
    "for files_grabbed_path in files_grabbed:\n",
    "    image = face_recognition.load_image_file(files_grabbed_path)\n",
    "    face_locations = face_recognition.face_locations(image)\n",
    "    Image_list.append(image)\n",
    "    Image_list_face_locations.append(face_locations)"
   ]
  },
  {
   "cell_type": "code",
   "execution_count": 53,
   "metadata": {},
   "outputs": [],
   "source": [
    " Image_list #consisted of array "
   ]
  },
  {
   "cell_type": "code",
   "execution_count": 54,
   "metadata": {},
   "outputs": [
    {
     "data": {
      "text/plain": [
       "[[(153, 296, 282, 167)],\n",
       " [(112, 349, 379, 82)],\n",
       " [(46, 100, 108, 38)],\n",
       " [(38, 196, 113, 121)],\n",
       " [(77, 345, 263, 159)],\n",
       " [(67, 210, 196, 81)],\n",
       " [(202, 304, 356, 150)],\n",
       " [(142, 365, 365, 142)],\n",
       " [(116, 270, 270, 115)],\n",
       " [(53, 142, 115, 80)],\n",
       " [(56, 155, 146, 66)],\n",
       " [(24, 196, 153, 67)],\n",
       " [(59, 149, 122, 87)],\n",
       " [(47, 146, 121, 71)],\n",
       " [(46, 126, 136, 36)],\n",
       " [(47, 162, 121, 88)],\n",
       " [(38, 154, 113, 79)],\n",
       " [(56, 155, 146, 66)],\n",
       " [(82, 468, 350, 200)],\n",
       " [(66, 145, 156, 56)],\n",
       " [(55, 129, 130, 55)],\n",
       " [(44, 151, 152, 44)],\n",
       " [(38, 154, 113, 79)],\n",
       " [(66, 145, 156, 56)],\n",
       " [(86, 155, 176, 66)],\n",
       " [(36, 165, 126, 76)],\n",
       " [(66, 145, 156, 56)],\n",
       " [(66, 175, 156, 86)],\n",
       " [(44, 151, 152, 44)],\n",
       " [(56, 155, 146, 66)]]"
      ]
     },
     "execution_count": 54,
     "metadata": {},
     "output_type": "execute_result"
    }
   ],
   "source": [
    "Image_list_face_locations #face location of each image"
   ]
  },
  {
   "cell_type": "code",
   "execution_count": 59,
   "metadata": {},
   "outputs": [
    {
     "name": "stdout",
     "output_type": "stream",
     "text": [
      "I found 30 face(s) in this photograph.\n"
     ]
    }
   ],
   "source": [
    "import numpy as np\n",
    "import PIL\n",
    "from PIL import Image as PIL_Image\n",
    "\n",
    "print(\"I found {} face(s) in this photograph.\".format(len(Image_list_face_locations)))\n",
    "\n",
    "toplist=[]\n",
    "rightlist=[]\n",
    "bottomlist=[]\n",
    "leftlist=[]\n",
    "#for face_location in face_locations:\n",
    "for face_location in Image_list_face_locations:\n",
    "    \n",
    "    # Print the location of each face in this image\n",
    "    toplist.append(face_location[0][0])\n",
    "    rightlist.append(face_location[0][1])\n",
    "    bottomlist.append(face_location[0][2])\n",
    "    leftlist.append(face_location[0][3]) \n",
    "    #print(\"A face is located at pixel location Top: {}, Left: {}, Bottom: {}, Right: {}\".format(top, left, bottom, right))\n"
   ]
  },
  {
   "cell_type": "code",
   "execution_count": 60,
   "metadata": {},
   "outputs": [],
   "source": [
    "CroppedFace=[]\n",
    "for i in range(len(Image_list)):\n",
    "    # You can access the actual face itself like this:\n",
    "    face_image = Image_list[i][toplist[i]:bottomlist[i], leftlist[i]:rightlist[i]]\n",
    "    pil_image = PIL_Image.fromarray(face_image) #type(pil_image) is PIL.Image.Image\n",
    "    CroppedFace.append(pil_image)\n",
    "    \n",
    "    #plt.imshow(pil_image)  # graph it\n",
    "    #pil_image.show()"
   ]
  },
  {
   "cell_type": "code",
   "execution_count": 61,
   "metadata": {},
   "outputs": [],
   "source": [
    "Copy_to_path='/CCAS/home/jialu/coursev3/nbs/dl1/divercity/testimages_CroppedFace/'\n",
    "d=0\n",
    "\n",
    "for face in range(len(CroppedFace)):    \n",
    "    filename = \"/CCAS/home/jialu/coursev3/nbs/dl1/divercity/testimages_CroppedFace/file_%d.jpeg\"%d\n",
    "    CroppedFace[d].save(filename) \n",
    "    #cv2.imwrite(filename, frame)\n",
    "    d+=1"
   ]
  },
  {
   "cell_type": "code",
   "execution_count": 68,
   "metadata": {},
   "outputs": [
    {
     "data": {
      "text/plain": [
       "[<PIL.Image.Image image mode=RGB size=129x129 at 0x2AAAD6EA56D8>,\n",
       " <PIL.Image.Image image mode=RGB size=267x267 at 0x2AAAD6EA5748>,\n",
       " <PIL.Image.Image image mode=RGB size=62x62 at 0x2AAAD9054AC8>,\n",
       " <PIL.Image.Image image mode=RGB size=75x75 at 0x2AAAD9054B70>,\n",
       " <PIL.Image.Image image mode=RGB size=186x186 at 0x2AAAD9054978>,\n",
       " <PIL.Image.Image image mode=RGB size=129x129 at 0x2AAAD90544A8>,\n",
       " <PIL.Image.Image image mode=RGB size=154x154 at 0x2AAAD9054320>,\n",
       " <PIL.Image.Image image mode=RGB size=223x223 at 0x2AAAD90546A0>,\n",
       " <PIL.Image.Image image mode=RGB size=155x154 at 0x2AAAD9054F98>,\n",
       " <PIL.Image.Image image mode=RGB size=62x62 at 0x2AAAD9054588>,\n",
       " <PIL.Image.Image image mode=RGB size=89x90 at 0x2AAAD9054550>,\n",
       " <PIL.Image.Image image mode=RGB size=129x129 at 0x2AAAD90542E8>,\n",
       " <PIL.Image.Image image mode=RGB size=62x63 at 0x2AAAD9054438>,\n",
       " <PIL.Image.Image image mode=RGB size=75x74 at 0x2AAAD90549E8>,\n",
       " <PIL.Image.Image image mode=RGB size=90x90 at 0x2AAAD9054128>,\n",
       " <PIL.Image.Image image mode=RGB size=74x74 at 0x2AABD6909358>,\n",
       " <PIL.Image.Image image mode=RGB size=75x75 at 0x2AABD6909DD8>,\n",
       " <PIL.Image.Image image mode=RGB size=89x90 at 0x2AABD69097F0>,\n",
       " <PIL.Image.Image image mode=RGB size=268x268 at 0x2AABD69094A8>,\n",
       " <PIL.Image.Image image mode=RGB size=89x90 at 0x2AABD69092B0>,\n",
       " <PIL.Image.Image image mode=RGB size=74x75 at 0x2AABD6909BA8>,\n",
       " <PIL.Image.Image image mode=RGB size=107x108 at 0x2AABD6909588>,\n",
       " <PIL.Image.Image image mode=RGB size=75x75 at 0x2AABD6909518>,\n",
       " <PIL.Image.Image image mode=RGB size=89x90 at 0x2AABD6909208>,\n",
       " <PIL.Image.Image image mode=RGB size=89x90 at 0x2AABD6909CC0>,\n",
       " <PIL.Image.Image image mode=RGB size=89x90 at 0x2AABD6909FD0>,\n",
       " <PIL.Image.Image image mode=RGB size=89x90 at 0x2AABD6909EF0>,\n",
       " <PIL.Image.Image image mode=RGB size=89x90 at 0x2AABD6909C18>,\n",
       " <PIL.Image.Image image mode=RGB size=107x108 at 0x2AABD6909710>,\n",
       " <PIL.Image.Image image mode=RGB size=89x90 at 0x2AABD6909748>]"
      ]
     },
     "execution_count": 68,
     "metadata": {},
     "output_type": "execute_result"
    }
   ],
   "source": [
    "CroppedFace"
   ]
  },
  {
   "cell_type": "markdown",
   "metadata": {},
   "source": [
    "# Put Model in Production"
   ]
  },
  {
   "cell_type": "code",
   "execution_count": 153,
   "metadata": {},
   "outputs": [
    {
     "data": {
      "image/jpeg": "[encoded data removed]",
      "image/png": "[encoded data removed]",
      "text/plain": [
       "Image (3, 108, 107)"
      ]
     },
     "execution_count": 153,
     "metadata": {},
     "output_type": "execute_result"
    }
   ],
   "source": [
    "im = open_image('/CCAS/home/jialu/coursev3/nbs/dl1/divercity/testimages_CroppedFace/file_28.jpeg')\n",
    "im"
   ]
  },
  {
   "cell_type": "code",
   "execution_count": 154,
   "metadata": {},
   "outputs": [
    {
     "data": {
      "text/plain": [
       "'black woman'"
      ]
     },
     "execution_count": 154,
     "metadata": {},
     "output_type": "execute_result"
    }
   ],
   "source": [
    "pred_class,pred_idx,outputs = learn_bt.predict(im)\n",
    "\n",
    "pred_class.obj"
   ]
  },
  {
   "cell_type": "code",
   "execution_count": null,
   "metadata": {},
   "outputs": [],
   "source": []
  }
 ],
 "metadata": {
  "kernelspec": {
   "display_name": "Python 3",
   "language": "python",
   "name": "python3"
  },
  "language_info": {
   "codemirror_mode": {
    "name": "ipython",
    "version": 3
   },
   "file_extension": ".py",
   "mimetype": "text/x-python",
   "name": "python",
   "nbconvert_exporter": "python",
   "pygments_lexer": "ipython3",
   "version": "3.6.10"
  }
 },
 "nbformat": 4,
 "nbformat_minor": 4
}
